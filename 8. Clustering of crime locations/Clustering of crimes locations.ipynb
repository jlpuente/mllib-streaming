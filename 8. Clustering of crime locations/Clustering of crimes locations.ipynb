{
 "cells": [
  {
   "cell_type": "markdown",
   "id": "c600ac93",
   "metadata": {},
   "source": [
    "# Clustering of top 5 Chicago crimes types"
   ]
  },
  {
   "cell_type": "markdown",
   "id": "9e01d1cd",
   "metadata": {},
   "source": [
    "This notebook documents the code that I used to implement K-means clustering algorithm on the 5 most representated crime types in Chicago city. The working dataset is the reputated Chicago crime dataset, which may be downloaded directly from [here](https://data.cityofchicago.org/Public-Safety/Crimes-2001-to-Present/ijzp-q8t2).\n",
    "\n",
    "I wrote this notebook on Thursday, May 4, 2023 for the MSc in Artificial Intelligence and Big Data of the University of Málaga."
   ]
  },
  {
   "cell_type": "markdown",
   "id": "06fa9099",
   "metadata": {},
   "source": [
    "## Table of contents"
   ]
  },
  {
   "cell_type": "markdown",
   "id": "67d24881",
   "metadata": {},
   "source": [
    "- [Package imports](#Package-imports)\n",
    "- [Initial Step. Create a SparkSession object](#Initial-Step.-Create-a-SparkSession-object)\n",
    "- [Step 1. Load Chicago crimes dataset into a PySpark DataFrame](#Step-1.-Load-Chicago-crimes-dataset-into-a-PySpark-DataFrame)\n",
    "- [Step 2. Filter the dataframe by the 5 crime types with the most number of incidences](#Step-2.-Filter-the-dataframe-by-the-5-crime-types-with-the-most-number-of-incidences)\n",
    "- [Step 3. Perform K-means algorithm to cluster the features](#Step-3.-Perform-K-means-algorithm-to-cluster-the-features)\n",
    "- [Step 4. Making predictions](#Step-4.-Making-predictions)\n",
    "- [Step 5. Plotting the results](#Step-5.-Plotting-the-results)\n",
    "- [Final Step. Stop SparkSession object](#Final-Step.-Stop-SparkSession-object)"
   ]
  },
  {
   "cell_type": "markdown",
   "id": "7eaf52f0",
   "metadata": {},
   "source": [
    "## Packages imports"
   ]
  },
  {
   "cell_type": "code",
   "execution_count": 1,
   "id": "b53279c3",
   "metadata": {},
   "outputs": [],
   "source": [
    "from pyspark import SparkConf  # the specific configuration for the Spark session\n",
    "from pyspark.sql import SparkSession  # the entry point to programming PySpark with the DataFrame API\n",
    "from pyspark.sql import functions  # kit of functions over DataFrame objects\n",
    "from pyspark.ml.feature import VectorAssembler, StringIndexer  # to manipulate PySpark DataFrames objects\n",
    "from pyspark.ml.clustering import KMeans  # K-means PySpark library of Machine Learning\n",
    "import matplotlib.pyplot as plt  # to plot the clusters on a bidimensional chart\n",
    "import numpy as np  # To work 12 times more efficiently with vectors"
   ]
  },
  {
   "cell_type": "markdown",
   "id": "a96f168d",
   "metadata": {},
   "source": [
    "## Initial Step. Create a SparkSession object"
   ]
  },
  {
   "cell_type": "markdown",
   "id": "f68a6f99",
   "metadata": {},
   "source": [
    "In my case I name \"ChicagoCrimesClustering\" this application and use 6 cores, which are the number of cores of my computer."
   ]
  },
  {
   "cell_type": "code",
   "execution_count": 2,
   "id": "b22c68d2",
   "metadata": {},
   "outputs": [],
   "source": [
    "spark_conf = SparkConf()\\\n",
    "    .setAppName(\"ChicagoCrimesClustering\")\\\n",
    "    .set(\"spark.executor.memory\", \"4g\") \\\n",
    "    .set(\"spark.driver.memory\", \"4g\")\n",
    "\n",
    "spark_session = SparkSession \\\n",
    "    .builder \\\n",
    "    .config(conf=spark_conf) \\\n",
    "    .master(\"local[6]\") \\\n",
    "    .getOrCreate()"
   ]
  },
  {
   "cell_type": "markdown",
   "id": "23591dd1",
   "metadata": {},
   "source": [
    "## Step 1. Load Chicago crimes dataset into a PySpark DataFrame"
   ]
  },
  {
   "cell_type": "markdown",
   "id": "592741cc",
   "metadata": {},
   "source": [
    "Now I read the dataset from a CSV file by specifying the path where the file is stored in disk. I am only interested in the columns \"Primary Type\", \"Latitude\" and \"Longitude\" so I select them and drop the rows with null values."
   ]
  },
  {
   "cell_type": "code",
   "execution_count": 3,
   "id": "f900bd98",
   "metadata": {},
   "outputs": [],
   "source": [
    "crime_dataframe = spark_session\\\n",
    "    .read\\\n",
    "    .csv('C:\\\\Users\\\\jlpuente\\\\Documents\\\\MBD\\\\M8_Spark_Hadoop\\\\python\\\\dataframe\\\\crimes_chicago.csv', header=True,\n",
    "         inferSchema=True)\\\n",
    "    .select('Primary Type', 'Latitude', 'Longitude')\\\n",
    "    .na.drop()"
   ]
  },
  {
   "cell_type": "code",
   "execution_count": 4,
   "id": "925a3cd0",
   "metadata": {
    "scrolled": true
   },
   "outputs": [
    {
     "name": "stdout",
     "output_type": "stream",
     "text": [
      "root\n",
      " |-- Primary Type: string (nullable = true)\n",
      " |-- Latitude: double (nullable = true)\n",
      " |-- Longitude: double (nullable = true)\n",
      "\n"
     ]
    }
   ],
   "source": [
    "crime_dataframe.printSchema()"
   ]
  },
  {
   "cell_type": "code",
   "execution_count": 5,
   "id": "cceaaa5a",
   "metadata": {
    "scrolled": true
   },
   "outputs": [
    {
     "name": "stdout",
     "output_type": "stream",
     "text": [
      "+-------+-----------------+-------------------+-------------------+\n",
      "|summary|     Primary Type|           Latitude|          Longitude|\n",
      "+-------+-----------------+-------------------+-------------------+\n",
      "|  count|          7678592|            7678592|            7678592|\n",
      "|   mean|             null| 41.842180648616726| -87.67150011163386|\n",
      "| stddev|             null|0.08880132455636114|0.06108499432693577|\n",
      "|    min|            ARSON|       36.619446395|      -91.686565684|\n",
      "|    max|WEAPONS VIOLATION|       42.022910333|      -87.524529378|\n",
      "+-------+-----------------+-------------------+-------------------+\n",
      "\n"
     ]
    }
   ],
   "source": [
    "crime_dataframe.describe().show()"
   ]
  },
  {
   "cell_type": "markdown",
   "id": "27eff23c",
   "metadata": {},
   "source": [
    "## Step 2. Filter the dataframe by the 5 crime types with the most number of incidences"
   ]
  },
  {
   "cell_type": "markdown",
   "id": "6849440b",
   "metadata": {},
   "source": [
    "I choose 5 as the number of clusters."
   ]
  },
  {
   "cell_type": "code",
   "execution_count": 6,
   "id": "19f0d5d1",
   "metadata": {},
   "outputs": [],
   "source": [
    "n_clusters = 5"
   ]
  },
  {
   "cell_type": "markdown",
   "id": "50a1fec5",
   "metadata": {},
   "source": [
    "I group by \"Primary Type\", then count the number of rows, then sort them descendingly (to leave at the top the higher ones) and finally select the first 5."
   ]
  },
  {
   "cell_type": "code",
   "execution_count": 7,
   "id": "69286537",
   "metadata": {},
   "outputs": [],
   "source": [
    "top_crimes_dataframe = crime_dataframe\\\n",
    "    .groupBy(\"Primary Type\")\\\n",
    "    .count()\\\n",
    "    .orderBy(functions.desc(\"count\"))\\\n",
    "    .limit(n_clusters)"
   ]
  },
  {
   "cell_type": "code",
   "execution_count": 8,
   "id": "361af63b",
   "metadata": {},
   "outputs": [
    {
     "name": "stdout",
     "output_type": "stream",
     "text": [
      "+---------------+-------+\n",
      "|   Primary Type|  count|\n",
      "+---------------+-------+\n",
      "|          THEFT|1617008|\n",
      "|        BATTERY|1413485|\n",
      "|CRIMINAL DAMAGE| 880345|\n",
      "|      NARCOTICS| 734888|\n",
      "|        ASSAULT| 503419|\n",
      "+---------------+-------+\n",
      "\n"
     ]
    }
   ],
   "source": [
    "top_crimes_dataframe.show()"
   ]
  },
  {
   "cell_type": "code",
   "execution_count": 9,
   "id": "146e90e3",
   "metadata": {},
   "outputs": [],
   "source": [
    "top_crime_types_dataframe = [row[\"Primary Type\"] for row in top_crimes_dataframe.collect()]\n",
    "filtered_crimes_dataframe = crime_dataframe\\\n",
    "    .filter(crime_dataframe[\"Primary Type\"]\n",
    "            .isin(top_crime_types_dataframe))"
   ]
  },
  {
   "cell_type": "code",
   "execution_count": 10,
   "id": "f5f87ed4",
   "metadata": {
    "scrolled": false
   },
   "outputs": [
    {
     "name": "stdout",
     "output_type": "stream",
     "text": [
      "+---------------+------------+-------------+\n",
      "|   Primary Type|    Latitude|    Longitude|\n",
      "+---------------+------------+-------------+\n",
      "|        BATTERY|41.815117282|-87.669999562|\n",
      "|          THEFT|41.895080471|-87.765400451|\n",
      "|      NARCOTICS|41.937405765|-87.716649687|\n",
      "|        ASSAULT|41.881903443|-87.755121152|\n",
      "|          THEFT|41.851988885|-87.689219118|\n",
      "|          THEFT|41.763647552|-87.722344693|\n",
      "|        BATTERY|41.975968415|-87.768014257|\n",
      "|        BATTERY|41.809678314|-87.593638934|\n",
      "|          THEFT|41.907127255|-87.678232016|\n",
      "|        BATTERY|41.748097343|-87.662166183|\n",
      "|CRIMINAL DAMAGE|41.893869916|-87.754341096|\n",
      "|        BATTERY|41.949429769|-87.775435529|\n",
      "|CRIMINAL DAMAGE|41.713031786|-87.536487809|\n",
      "|CRIMINAL DAMAGE|41.972552295|-87.751076926|\n",
      "|CRIMINAL DAMAGE|41.713031786|-87.536487809|\n",
      "|CRIMINAL DAMAGE|41.713127829|-87.536486623|\n",
      "|        ASSAULT|41.756330319|-87.552716204|\n",
      "|        BATTERY|41.758420222|-87.565152335|\n",
      "|          THEFT|41.752596188|-87.554055126|\n",
      "|          THEFT|41.875367424|-87.627620993|\n",
      "+---------------+------------+-------------+\n",
      "only showing top 20 rows\n",
      "\n"
     ]
    }
   ],
   "source": [
    "filtered_crimes_dataframe.show()"
   ]
  },
  {
   "cell_type": "markdown",
   "id": "b9d7f11c",
   "metadata": {},
   "source": [
    "The number of rows is:"
   ]
  },
  {
   "cell_type": "code",
   "execution_count": 11,
   "id": "f86f5db4",
   "metadata": {},
   "outputs": [
    {
     "data": {
      "text/plain": [
       "5149145"
      ]
     },
     "execution_count": 11,
     "metadata": {},
     "output_type": "execute_result"
    }
   ],
   "source": [
    "filtered_crimes_dataframe.count()"
   ]
  },
  {
   "cell_type": "markdown",
   "id": "2fcb5e44",
   "metadata": {},
   "source": [
    "Among them there might be outliers, that is, coordinates that don't belong to Chicago city. After inspectioning Chicago on map, I know that it is inside a square whose diagonals goes from, roughly, (42.01, -87.95) to (41.64, -87.52). "
   ]
  },
  {
   "cell_type": "code",
   "execution_count": 12,
   "id": "5b81e186",
   "metadata": {},
   "outputs": [],
   "source": [
    "filtered_crimes_dataframe = filtered_crimes_dataframe\\\n",
    "                                    .filter((functions.col(\"Latitude\") > 41.0) & (functions.col('Latitude') < 42.0))"
   ]
  },
  {
   "cell_type": "code",
   "execution_count": 13,
   "id": "3bb702de",
   "metadata": {},
   "outputs": [
    {
     "data": {
      "text/plain": [
       "5043499"
      ]
     },
     "execution_count": 13,
     "metadata": {},
     "output_type": "execute_result"
    }
   ],
   "source": [
    "filtered_crimes_dataframe.count()"
   ]
  },
  {
   "cell_type": "code",
   "execution_count": 14,
   "id": "b9af1bf7",
   "metadata": {},
   "outputs": [],
   "source": [
    "filtered_crimes_dataframe = filtered_crimes_dataframe\\\n",
    "                                    .filter((functions.col(\"Longitude\") > -87.95) & (functions.col('Longitude') < -87.52))"
   ]
  },
  {
   "cell_type": "code",
   "execution_count": 15,
   "id": "599c21a4",
   "metadata": {},
   "outputs": [
    {
     "data": {
      "text/plain": [
       "5043499"
      ]
     },
     "execution_count": 15,
     "metadata": {},
     "output_type": "execute_result"
    }
   ],
   "source": [
    "filtered_crimes_dataframe.count()"
   ]
  },
  {
   "cell_type": "markdown",
   "id": "9005fb6b",
   "metadata": {},
   "source": [
    "Now I convert the PySpark DataFrame into a new one in Machine Learning format, that is, it only has two columns: \"features\" and \"label\". I select the relevant columns from `filtered_crimes_dataframe`."
   ]
  },
  {
   "cell_type": "code",
   "execution_count": 16,
   "id": "72b606d7",
   "metadata": {},
   "outputs": [],
   "source": [
    "featured_columns = [\"Latitude\", \"Longitude\"]\n",
    "label_column = \"Primary Type\""
   ]
  },
  {
   "cell_type": "markdown",
   "id": "16afef01",
   "metadata": {},
   "source": [
    "I create a VectorAssembler to combine Latitude and Longitude columns into a vector of features."
   ]
  },
  {
   "cell_type": "code",
   "execution_count": 17,
   "id": "ae49601f",
   "metadata": {},
   "outputs": [],
   "source": [
    "assembler = VectorAssembler(inputCols=featured_columns, outputCol=\"features\")"
   ]
  },
  {
   "cell_type": "markdown",
   "id": "17977a48",
   "metadata": {},
   "source": [
    "Apply the VectorAssembler to the `filtered_crimes_dataframe`."
   ]
  },
  {
   "cell_type": "code",
   "execution_count": 18,
   "id": "f07ee865",
   "metadata": {},
   "outputs": [],
   "source": [
    "assembled_crimes = assembler.transform(filtered_crimes_dataframe)"
   ]
  },
  {
   "cell_type": "markdown",
   "id": "471eddd9",
   "metadata": {},
   "source": [
    "Create a StringIndexer object for the \"Primary Type\" column to convert it to a label"
   ]
  },
  {
   "cell_type": "code",
   "execution_count": 19,
   "id": "fffbd067",
   "metadata": {},
   "outputs": [],
   "source": [
    "string_indexer = StringIndexer(inputCol=label_column, outputCol=\"label\")"
   ]
  },
  {
   "cell_type": "markdown",
   "id": "c71f391a",
   "metadata": {},
   "source": [
    "Apply the StringIndexer to the assembled_crimes dataframe."
   ]
  },
  {
   "cell_type": "code",
   "execution_count": 20,
   "id": "3f2d83ea",
   "metadata": {},
   "outputs": [],
   "source": [
    "indexer = string_indexer.fit(assembled_crimes)\n",
    "dataframe = indexer \\\n",
    "    .transform(assembled_crimes) \\\n",
    "    .select('features', 'label')"
   ]
  },
  {
   "cell_type": "markdown",
   "id": "1f239e3e",
   "metadata": {},
   "source": [
    "Show the result."
   ]
  },
  {
   "cell_type": "code",
   "execution_count": 21,
   "id": "60796c0b",
   "metadata": {
    "scrolled": false
   },
   "outputs": [
    {
     "name": "stdout",
     "output_type": "stream",
     "text": [
      "+--------------------+-----+\n",
      "|            features|label|\n",
      "+--------------------+-----+\n",
      "|[41.815117282,-87...|  1.0|\n",
      "|[41.895080471,-87...|  0.0|\n",
      "|[41.937405765,-87...|  3.0|\n",
      "|[41.881903443,-87...|  4.0|\n",
      "|[41.851988885,-87...|  0.0|\n",
      "|[41.763647552,-87...|  0.0|\n",
      "|[41.975968415,-87...|  1.0|\n",
      "|[41.809678314,-87...|  1.0|\n",
      "|[41.907127255,-87...|  0.0|\n",
      "|[41.748097343,-87...|  1.0|\n",
      "|[41.893869916,-87...|  2.0|\n",
      "|[41.949429769,-87...|  1.0|\n",
      "|[41.713031786,-87...|  2.0|\n",
      "|[41.972552295,-87...|  2.0|\n",
      "|[41.713031786,-87...|  2.0|\n",
      "|[41.713127829,-87...|  2.0|\n",
      "|[41.756330319,-87...|  4.0|\n",
      "|[41.758420222,-87...|  1.0|\n",
      "|[41.752596188,-87...|  0.0|\n",
      "|[41.875367424,-87...|  0.0|\n",
      "+--------------------+-----+\n",
      "only showing top 20 rows\n",
      "\n"
     ]
    }
   ],
   "source": [
    "dataframe.show()"
   ]
  },
  {
   "cell_type": "markdown",
   "id": "0c0caf3b",
   "metadata": {},
   "source": [
    "I write down the correspondence between the original \"Primary Type\" values and the new \"label\" values. I'll need it for the legend at the time to plot the results. Knowing that, by default, StringIndexer orders by label frequencies so the most frequent label gets index 0, the correct order to create the list is this: "
   ]
  },
  {
   "cell_type": "code",
   "execution_count": 22,
   "id": "d493af7d",
   "metadata": {},
   "outputs": [],
   "source": [
    "criminal_type_list = ['BATTERY', 'THEFT', 'NARCOTICS', 'ASSAULT', 'CRIMINAL DAMAGE']"
   ]
  },
  {
   "cell_type": "markdown",
   "id": "2626b08e",
   "metadata": {},
   "source": [
    "## Step 3. Perform K-means algorithm to cluster the features"
   ]
  },
  {
   "cell_type": "markdown",
   "id": "b6862be1",
   "metadata": {},
   "source": [
    "I create a K-means cluster and indicate the feature columns and the number of clusters `k`."
   ]
  },
  {
   "cell_type": "code",
   "execution_count": 23,
   "id": "4f61ee52",
   "metadata": {},
   "outputs": [],
   "source": [
    "kmeans = KMeans(featuresCol='features', k=n_clusters)"
   ]
  },
  {
   "cell_type": "markdown",
   "id": "0315ffcd",
   "metadata": {},
   "source": [
    "Fit the model. It might take from few seconds to several minutes depending on computer resources provided to this assignment."
   ]
  },
  {
   "cell_type": "code",
   "execution_count": 24,
   "id": "497f11be",
   "metadata": {
    "scrolled": false
   },
   "outputs": [
    {
     "name": "stdout",
     "output_type": "stream",
     "text": [
      "The model is starting to fit...\n",
      "The model has been fitted successfully.\n"
     ]
    }
   ],
   "source": [
    "print('The model is starting to fit...')\n",
    "model = kmeans.fit(dataframe)\n",
    "print('The model has been fitted successfully.')"
   ]
  },
  {
   "cell_type": "markdown",
   "id": "95297fd8",
   "metadata": {},
   "source": [
    "Compute centroids."
   ]
  },
  {
   "cell_type": "code",
   "execution_count": 25,
   "id": "8179f38d",
   "metadata": {},
   "outputs": [],
   "source": [
    "centroids = model.clusterCenters()"
   ]
  },
  {
   "cell_type": "markdown",
   "id": "70e0d6e8",
   "metadata": {},
   "source": [
    "And count the number of points for each cluster."
   ]
  },
  {
   "cell_type": "code",
   "execution_count": 26,
   "id": "51265492",
   "metadata": {},
   "outputs": [],
   "source": [
    "points_by_cluster = model\\\n",
    "    .transform(dataframe)\\\n",
    "    .groupBy(\"prediction\")\\\n",
    "    .count()\\\n",
    "    .orderBy(\"prediction\")\\\n",
    "    .select(\"count\")\\\n",
    "    .rdd\\\n",
    "    .flatMap(lambda x: x)\\\n",
    "    .collect()"
   ]
  },
  {
   "cell_type": "code",
   "execution_count": 27,
   "id": "f6550f53",
   "metadata": {},
   "outputs": [
    {
     "data": {
      "text/plain": [
       "[1011384, 1046504, 1079624, 615051, 1290936]"
      ]
     },
     "execution_count": 27,
     "metadata": {},
     "output_type": "execute_result"
    }
   ],
   "source": [
    "points_by_cluster"
   ]
  },
  {
   "cell_type": "markdown",
   "id": "6ae65750",
   "metadata": {},
   "source": [
    "## Step 4. Making predictions"
   ]
  },
  {
   "cell_type": "markdown",
   "id": "8053ba87",
   "metadata": {},
   "source": [
    "Now I predict the cluster labels for each data point by using the `transform()` method. It returns a single-column dataframe with \"pediction\" as header. I select this column and call `collect()` to make the driver get it as Python list for me."
   ]
  },
  {
   "cell_type": "code",
   "execution_count": 28,
   "id": "db1757e9",
   "metadata": {},
   "outputs": [
    {
     "name": "stdout",
     "output_type": "stream",
     "text": [
      "Making predictions...\n",
      "Predictions made.\n"
     ]
    }
   ],
   "source": [
    "print('Making predictions...')\n",
    "predictions = model\\\n",
    "    .transform(dataframe)\\\n",
    "        .select('prediction')\\\n",
    "            .collect()\n",
    "print('Predictions made.')"
   ]
  },
  {
   "cell_type": "markdown",
   "id": "c63b81a3",
   "metadata": {},
   "source": [
    "## Step 5. Plotting the results"
   ]
  },
  {
   "cell_type": "markdown",
   "id": "a6293453",
   "metadata": {},
   "source": [
    "In order to plot the results is necessary to split the \"features\" columns into \"Latitudes\" and \"Longitudes\". Converting the Spark dataframe into a Pandas one does exactly that."
   ]
  },
  {
   "cell_type": "code",
   "execution_count": 29,
   "id": "91fb129d",
   "metadata": {
    "scrolled": false
   },
   "outputs": [
    {
     "name": "stdout",
     "output_type": "stream",
     "text": [
      "Transforming PySpark DataFrame into a Pandas DataFrame...\n",
      "Transformation completed successfully.\n"
     ]
    }
   ],
   "source": [
    "print('Transforming PySpark DataFrame into a Pandas DataFrame...')\n",
    "pandas_dataframe = dataframe.toPandas()\n",
    "print('Transformation completed successfully.')"
   ]
  },
  {
   "cell_type": "markdown",
   "id": "f89adeb0",
   "metadata": {},
   "source": [
    "Now I convert the Python list into a NumPy array to gain efficiency at the time to plot. I would say it's even mandatory due the fact there are 5 million of point to plot, which is a huge amount of points. The computing time of NumPy arrays is almost 12 times faster than standard Python lists."
   ]
  },
  {
   "cell_type": "code",
   "execution_count": 30,
   "id": "d6060415",
   "metadata": {},
   "outputs": [],
   "source": [
    "predictions_np = np.array([row.prediction for row in predictions])\n",
    "latitudes_np = np.array([[x[0]] for x in pandas_dataframe['features']])\n",
    "longitudes_np = np.array([[x[1]] for x in pandas_dataframe['features']])"
   ]
  },
  {
   "cell_type": "markdown",
   "id": "6631c666",
   "metadata": {},
   "source": [
    "Let's display the boxplots for each array."
   ]
  },
  {
   "cell_type": "code",
   "execution_count": 31,
   "id": "9d502da3",
   "metadata": {
    "scrolled": false
   },
   "outputs": [
    {
     "data": {
      "text/plain": [
       "{'whiskers': [<matplotlib.lines.Line2D at 0x1e14799ac88>,\n",
       "  <matplotlib.lines.Line2D at 0x1e198b4c748>],\n",
       " 'caps': [<matplotlib.lines.Line2D at 0x1e1ffbac4c8>,\n",
       "  <matplotlib.lines.Line2D at 0x1e1ffcd2b08>],\n",
       " 'boxes': [<matplotlib.lines.Line2D at 0x1e1ff491208>],\n",
       " 'medians': [<matplotlib.lines.Line2D at 0x1e1ffde1888>],\n",
       " 'fliers': [<matplotlib.lines.Line2D at 0x1e1fff22dc8>],\n",
       " 'means': []}"
      ]
     },
     "execution_count": 31,
     "metadata": {},
     "output_type": "execute_result"
    },
    {
     "data": {
      "image/png": "[encoded data removed]",
      "text/plain": [
       "<Figure size 640x480 with 1 Axes>"
      ]
     },
     "metadata": {},
     "output_type": "display_data"
    }
   ],
   "source": [
    "plt.boxplot(latitudes_np)"
   ]
  },
  {
   "cell_type": "code",
   "execution_count": 32,
   "id": "f6a07eb3",
   "metadata": {
    "scrolled": false
   },
   "outputs": [
    {
     "data": {
      "text/plain": [
       "{'whiskers': [<matplotlib.lines.Line2D at 0x1e2025d2708>,\n",
       "  <matplotlib.lines.Line2D at 0x1e2026050c8>],\n",
       " 'caps': [<matplotlib.lines.Line2D at 0x1e202637388>,\n",
       "  <matplotlib.lines.Line2D at 0x1e202669148>],\n",
       " 'boxes': [<matplotlib.lines.Line2D at 0x1e2025bda48>],\n",
       " 'medians': [<matplotlib.lines.Line2D at 0x1e20269a408>],\n",
       " 'fliers': [<matplotlib.lines.Line2D at 0x1e2026d3808>],\n",
       " 'means': []}"
      ]
     },
     "execution_count": 32,
     "metadata": {},
     "output_type": "execute_result"
    },
    {
     "data": {
      "image/png": "[encoded data removed]",
      "text/plain": [
       "<Figure size 640x480 with 1 Axes>"
      ]
     },
     "metadata": {},
     "output_type": "display_data"
    }
   ],
   "source": [
    "plt.boxplot(longitudes_np)"
   ]
  },
  {
   "cell_type": "code",
   "execution_count": 33,
   "id": "862f0f5d",
   "metadata": {},
   "outputs": [
    {
     "data": {
      "text/plain": [
       "{'whiskers': [<matplotlib.lines.Line2D at 0x1e202cd1bc8>,\n",
       "  <matplotlib.lines.Line2D at 0x1e202ce6688>],\n",
       " 'caps': [<matplotlib.lines.Line2D at 0x1e202d03f88>,\n",
       "  <matplotlib.lines.Line2D at 0x1e202d17848>],\n",
       " 'boxes': [<matplotlib.lines.Line2D at 0x1e202cc1748>],\n",
       " 'medians': [<matplotlib.lines.Line2D at 0x1e202d34048>],\n",
       " 'fliers': [<matplotlib.lines.Line2D at 0x1e202d608c8>],\n",
       " 'means': []}"
      ]
     },
     "execution_count": 33,
     "metadata": {},
     "output_type": "execute_result"
    },
    {
     "data": {
      "image/png": "[encoded data removed]",
      "text/plain": [
       "<Figure size 640x480 with 1 Axes>"
      ]
     },
     "metadata": {},
     "output_type": "display_data"
    }
   ],
   "source": [
    "plt.boxplot(predictions_np)"
   ]
  },
  {
   "cell_type": "markdown",
   "id": "b5e8d440",
   "metadata": {},
   "source": [
    "Anything wrong with the boxplots."
   ]
  },
  {
   "cell_type": "markdown",
   "id": "9d8258c5",
   "metadata": {},
   "source": [
    "And finally I plot the results."
   ]
  },
  {
   "cell_type": "code",
   "execution_count": 34,
   "id": "a47f2177",
   "metadata": {},
   "outputs": [
    {
     "name": "stdout",
     "output_type": "stream",
     "text": [
      "The results are starting to plot...\n"
     ]
    },
    {
     "data": {
      "image/png": "[encoded data removed]",
      "text/plain": [
       "<Figure size 640x480 with 1 Axes>"
      ]
     },
     "metadata": {},
     "output_type": "display_data"
    },
    {
     "name": "stdout",
     "output_type": "stream",
     "text": [
      "The plot has finished.\n"
     ]
    }
   ],
   "source": [
    "print('The results are starting to plot...')\n",
    "\n",
    "fig = plt.figure()\n",
    "ax = fig.add_subplot(1, 1, 1)\n",
    "ax.grid(False)\n",
    "\n",
    "ax.set_title('Clusters for the 5 most represented crimes in Chicago')\n",
    "ax.set_ylabel('Latitude')\n",
    "ax.set_xlabel('Longitude')\n",
    "\n",
    "# Map numerical labels to strings\n",
    "distinct_labels = np.unique(predictions_np)\n",
    "distinct_labels_str = [criminal_type_list[i-1] for i in distinct_labels]\n",
    "\n",
    "colors = [\"red\", \"green\", \"blue\", \"purple\", \"orange\"]\n",
    "for i in range(len(distinct_labels)):\n",
    "    ax.scatter(longitudes_np[predictions_np == distinct_labels[i]], \n",
    "                latitudes_np[predictions_np == distinct_labels[i]], \n",
    "                label=distinct_labels_str[i])\n",
    "    ax.scatter(centroids[i][1], centroids[i][0], marker=\"x\", color=colors[i], s=150)\n",
    "\n",
    "ax.legend(loc='best', title='Categories')\n",
    "\n",
    "plt.show()\n",
    "\n",
    "print('The plot has finished.')"
   ]
  },
  {
   "cell_type": "markdown",
   "id": "64939301",
   "metadata": {},
   "source": [
    "## Final Step. Stop SparkSession object"
   ]
  },
  {
   "cell_type": "markdown",
   "id": "c91e1fb4",
   "metadata": {},
   "source": [
    "In order to perform a clean release of all allocated resources in memory it's a good practise to always stop the SparkSession object by ourselves."
   ]
  },
  {
   "cell_type": "code",
   "execution_count": 35,
   "id": "41a691fe",
   "metadata": {},
   "outputs": [],
   "source": [
    "spark_session.stop()"
   ]
  },
  {
   "cell_type": "markdown",
   "id": "bec36867",
   "metadata": {},
   "source": [
    "*(This is the end of the assignment.)*"
   ]
  }
 ],
 "metadata": {
  "kernelspec": {
   "display_name": "Python 3 (ipykernel)",
   "language": "python",
   "name": "python3"
  },
  "language_info": {
   "codemirror_mode": {
    "name": "ipython",
    "version": 3
   },
   "file_extension": ".py",
   "mimetype": "text/x-python",
   "name": "python",
   "nbconvert_exporter": "python",
   "pygments_lexer": "ipython3",
   "version": "3.7.16"
  }
 },
 "nbformat": 4,
 "nbformat_minor": 5
}
